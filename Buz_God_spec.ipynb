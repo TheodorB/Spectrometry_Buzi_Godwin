{
 "cells": [
  {
   "cell_type": "markdown",
   "metadata": {},
   "source": [
    "## Import modules and Costumize Graphics"
   ]
  },
  {
   "cell_type": "code",
   "execution_count": 1,
   "metadata": {
    "collapsed": false
   },
   "outputs": [],
   "source": [
    "%matplotlib inline\n",
    "import pandas as pd\n",
    "import matplotlib.pyplot as plt\n",
    "import numpy as np\n",
    "import seaborn as sb\n",
    "import os, time, math, datetime\n",
    "import matplotlib\n",
    "from scipy import stats\n",
    "import warnings\n",
    "warnings.simplefilter(action = \"ignore\", category = FutureWarning)\n",
    "sb.set_context(\"talk\", font_scale=1.8)\n",
    "sb.set_style(\"whitegrid\", {\"grid.linewidth\": .3,'grid.color': \" .95\"})\n",
    "sb.set_style(\"whitegrid\", {\"grid.linewidth\": .3,'grid.color': \" .95\"})\n",
    "matplotlib.rc('font', family='FreeSerif') \n",
    "plt.rcParams.update({'figure.max_open_warning': 0})"
   ]
  },
  {
   "cell_type": "markdown",
   "metadata": {},
   "source": [
    "## Import 'Raw' and 'setting' sheets and preprocess them"
   ]
  },
  {
   "cell_type": "code",
   "execution_count": 2,
   "metadata": {
    "collapsed": false
   },
   "outputs": [],
   "source": [
    "# path to file\n",
    "mypath  = '/home/theodor/MEGA/Buz_God_spec/Anastatica 10.3.16_test.xlsx'\n",
    "\n",
    "# import setting sheet\n",
    "setting = pd.read_excel(mypath,sheetname='setting', parse_cols='A:Z')\n",
    "# number of treatments and repetitions\n",
    "num_of_treats = len(setting.loc['B'])- 2   \n",
    "num_of_repet = np.diff([ord(char) for char in setting[setting[2]=='Lb'].index])[0]-1 \n",
    "\n",
    "# Read 'Raw' sheet\n",
    "rows2skip = range(40) # rows to skip \n",
    "rows2skip.extend(range(40+3+(num_of_treats+2)*(num_of_repet+2),300))\n",
    "\n",
    "raw = pd.read_excel(mypath,sheetname='Raw', skiprows=rows2skip)\n",
    "raw = raw.transpose()  # transpose dataframe\n",
    "raw.columns = raw.iloc[0,:].tolist()\n",
    "raw = raw.ix[1:]\n",
    "raw.iloc[:,2:] = raw.iloc[:,2:] - raw.iloc[0,2:]"
   ]
  },
  {
   "cell_type": "markdown",
   "metadata": {},
   "source": [
    "## Calculate stats"
   ]
  },
  {
   "cell_type": "code",
   "execution_count": 3,
   "metadata": {
    "collapsed": false
   },
   "outputs": [],
   "source": [
    "#  create dictionary of number -> treatment name\n",
    "keys_  = setting.columns[1:-1]\n",
    "values_ = [str(u) for u in setting.iloc[1,1:-1].values]\n",
    "treat_dict = dict(zip(keys_, values_))\n",
    "treat_dict.values()\n",
    "\n",
    "# letters of repetitions (e.g.:  B, C, D)\n",
    "reps_letters = [str(s) for s in setting.ix[1:1+num_of_repet].index] \n",
    "stats_df = raw.iloc[:,0:2].copy(deep=True)\n",
    "cols = [str(s) for s in raw.columns[2:]]\n",
    "cols = [c for c in cols if c[0] in reps_letters] #columns containing our data\n",
    "for i,j in treat_dict.iteritems():  \n",
    "    tr_columns = [c  for c in cols if c[1:]==str(i)]     # columns that belong to  treat\n",
    "    stats_df[j +'_mean'] = raw[tr_columns].mean(axis=1) # mean of each treat\n",
    "    stats_df[j +'_std'] = raw[tr_columns].std(axis=1) # std\n",
    "    stats_df[j +'_stderr'] = raw[tr_columns].std(axis=1)/np.sqrt(len(tr_columns)) # stderror\n",
    "stats_df['Time [h]'] = stats_df['Time [s]']/3600.0\n",
    "\n",
    "# P_VALUE for each cycle\n",
    "\n",
    "treats_list = list()  # list columns that belong to  each treat\n",
    "for i,j in treat_dict.iteritems():  \n",
    "    treats_list.append([c  for c in cols if c[1:]==str(i)])\n",
    "\n",
    "#  create empty series for p_value\n",
    "p = np.empty(len(stats_df))\n",
    "p[:] = np.nan\n",
    "stats_df['p_value'] = pd.Series(p, index=stats_df.index)\n",
    "\n",
    "# calculate p_value for each row\n",
    "for i,row in raw.iterrows():\n",
    "    data =[pd.to_numeric(row[cls]).values for cls in treats_list]\n",
    "    stats_df.loc[i,'p_value'] = stats.f_oneway(*data)[1]\n",
    "    \n",
    "# save stats_df in Excel file\n",
    "stats_df.to_excel(os.path.join(os.path.dirname(mypath),'python_stats_output.xlsx'))"
   ]
  },
  {
   "cell_type": "markdown",
   "metadata": {},
   "source": [
    "## Plot all Results"
   ]
  },
  {
   "cell_type": "code",
   "execution_count": 14,
   "metadata": {
    "collapsed": false
   },
   "outputs": [],
   "source": [
    "# plot treatments with std error bars\n",
    "\n",
    "marks =  ('o', 'v', '^', '<', '>', '8', 's', 'p', '*', 'h', 'H', 'D', 'd')\n",
    "\n",
    "fig, ax = plt.subplots(figsize=(16,8))\n",
    "x=stats_df['Time [h]'].values\n",
    "for i,tr in enumerate(treat_dict.itervalues()):\n",
    "    y=stats_df[tr+'_mean'].values\n",
    "    ax.errorbar(x,y,yerr=stats_df[tr+'_stderr'].values,fmt=marks[i],alpha=0.5,label=tr);\n",
    "ax.set_xlim([0,np.max(stats_df['Time [h]'])])\n",
    "ax.set_ylabel('$\\Delta OD \\,\\, (595\\,nm)$')\n",
    "ax.set_xlabel('$Time \\, (h)$')\n",
    "\n",
    "# plot vertical line where p_value above threshold\n",
    "thresh = 0.05 # significance level \n",
    "boolp = stats_df['p_value'] > thresh # boolean if pvalue< threshold\n",
    "b, t =ax.get_ylim()\n",
    "xi = stats_df['Time [h]'][boolp].values\n",
    "# plot vertical line\n",
    "# ax.vlines(xi,b,t,'lightgray',alpha=0.7,linewidth=7.5,label='p_value > threshold')\n",
    "_ = ax.legend(bbox_to_anchor=(0., 1.02, 1., .102), loc=3,\n",
    "           ncol=4, mode=\"expand\", borderaxespad=0.,fontsize=22);\n",
    "fig.savefig(os.path.join(os.path.dirname(mypath),'result1.png'),dpi=300,bbox_inches='tight')"
   ]
  },
  {
   "cell_type": "markdown",
   "metadata": {},
   "source": [
    "## checkboxes to plot part of the data only"
   ]
  },
  {
   "cell_type": "code",
   "execution_count": 16,
   "metadata": {
    "collapsed": false
   },
   "outputs": [],
   "source": [
    "import IPython.html.widgets as widgets\n",
    "from IPython.display import display, clear_output\n",
    "bool_treatments = np.zeros(len(values_),dtype=bool).tolist()\n",
    "rs = []\n",
    "for i,v in enumerate(bool_treatments):\n",
    "    rs.append(widgets.Checkbox(False,description=values_[i]))\n",
    "    display(rs[i])"
   ]
  },
  {
   "cell_type": "markdown",
   "metadata": {},
   "source": [
    "## filter and plot only selected treatments"
   ]
  },
  {
   "cell_type": "code",
   "execution_count": 15,
   "metadata": {
    "collapsed": false
   },
   "outputs": [],
   "source": [
    "for i,v in enumerate(bool_treatments):\n",
    "    v = rs[i].value\n",
    "    bool_treatments[i] = v\n",
    "    \n",
    "vals2plot = [val for i,val in enumerate(values_) if bool_treatments[i]==True]\n",
    "treat2plot_dict = treat_dict.copy()\n",
    "treat2plot_dict = {key: value for key, value in treat2plot_dict.items() if value  in vals2plot}\n",
    "\n",
    "fig, ax = plt.subplots(figsize=(16,8))\n",
    "x=stats_df['Time [h]'].values\n",
    "for i,tr in enumerate(treat2plot_dict.itervalues()):\n",
    "    \n",
    "    y=stats_df[tr+'_mean'].values\n",
    "    ax.errorbar(x,y,yerr=stats_df[tr+'_stderr'].values,fmt=marks[i],alpha=0.5,label=tr);\n",
    "ax.set_xlim([0,np.max(stats_df['Time [h]'])])\n",
    "ax.set_ylabel('$\\Delta OD \\,\\, (595\\,nm)$')\n",
    "ax.set_xlabel('$Time \\, (h)$')\n",
    "\n",
    "# plot vertical line where p_value above threshold\n",
    "thresh = 0.05 # significance level \n",
    "boolp = stats_df['p_value'] > thresh # boolean if pvalue< threshold\n",
    "b, t =ax.get_ylim()\n",
    "xi = stats_df['Time [h]'][boolp].values\n",
    "# plot vertical line\n",
    "# ax.vlines(xi,b,t,'lightgray',alpha=0.7,linewidth=7.5,label='p_value > threshold')\n",
    "_ = ax.legend(bbox_to_anchor=(0., 1.02, 1., .102), loc=3,\n",
    "           ncol=4, mode=\"expand\", borderaxespad=0.,fontsize=22);\n",
    "fig.savefig(os.path.join(os.path.dirname(mypath),'_'.join(vals2plot)+'_result.png'),dpi=300,bbox_inches='tight')"
   ]
  },
  {
   "cell_type": "code",
   "execution_count": null,
   "metadata": {
    "collapsed": true
   },
   "outputs": [],
   "source": []
  }
 ],
 "metadata": {
  "kernelspec": {
   "display_name": "Python 2",
   "language": "python",
   "name": "python2"
  },
  "language_info": {
   "codemirror_mode": {
    "name": "ipython",
    "version": 2
   },
   "file_extension": ".py",
   "mimetype": "text/x-python",
   "name": "python",
   "nbconvert_exporter": "python",
   "pygments_lexer": "ipython2",
   "version": "2.7.12"
  }
 },
 "nbformat": 4,
 "nbformat_minor": 0
}
